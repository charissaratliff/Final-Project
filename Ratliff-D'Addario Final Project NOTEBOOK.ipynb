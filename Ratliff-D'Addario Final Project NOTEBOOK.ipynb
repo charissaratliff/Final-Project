{
 "cells": [
  {
   "cell_type": "markdown",
   "metadata": {},
   "source": [
    "# Section 1\n",
    "NHANES dataset link: https://www.rdocumentation.org/packages/NHANES/versions/2.1.0/topics/NHANES"
   ]
  },
  {
   "cell_type": "code",
   "execution_count": 1,
   "metadata": {},
   "outputs": [],
   "source": [
    "# I would like to compare the relationship between white and hispanic races and weight in adults."
   ]
  },
  {
   "cell_type": "code",
   "execution_count": 2,
   "metadata": {},
   "outputs": [],
   "source": [
    "# Visualization #1: Box Plot.\n",
    "# Weight in White and Hispanic Adults. "
   ]
  },
  {
   "cell_type": "code",
   "execution_count": 3,
   "metadata": {},
   "outputs": [],
   "source": [
    "# Is there a difference in weight among White and Hispanic races?"
   ]
  },
  {
   "cell_type": "code",
   "execution_count": 4,
   "metadata": {},
   "outputs": [],
   "source": [
    "# I will import the required software here. \n",
    "\n",
    "\n",
    "import pandas as pd\n",
    "import numpy as np\n",
    "import matplotlib.pyplot as plt"
   ]
  },
  {
   "cell_type": "code",
   "execution_count": 5,
   "metadata": {},
   "outputs": [],
   "source": [
    "# Next, I will import dataframe. I will use the NHANES dataframe used throughout the course. \n",
    "\n",
    "\n",
    "df = pd.read_csv('Data/NHANES.csv')"
   ]
  },
  {
   "cell_type": "code",
   "execution_count": 6,
   "metadata": {},
   "outputs": [],
   "source": [
    "# Identifying Age:\n",
    "# Because I am only interested in adults, I will create a dataframe for adults. \n",
    "# I will define adulthood at age 18.\n",
    "\n",
    "\n",
    "adult_df = df[df['Age'] >= 18]"
   ]
  },
  {
   "cell_type": "code",
   "execution_count": 7,
   "metadata": {},
   "outputs": [],
   "source": [
    "# Identifying Race:\n",
    "# I will compare white and hispanic races against weight. I am identifying the races that I wish to compare here. \n",
    "\n",
    "\n",
    "white_df = adult_df[adult_df['Race1']=='White']\n",
    "hispanic_df = adult_df[adult_df['Race1']=='Hispanic']"
   ]
  },
  {
   "cell_type": "code",
   "execution_count": 8,
   "metadata": {},
   "outputs": [
    {
     "data": {
      "image/png": "[encoded data removed]",
      "text/plain": [
       "<Figure size 864x576 with 1 Axes>"
      ]
     },
     "metadata": {
      "needs_background": "light"
     },
     "output_type": "display_data"
    }
   ],
   "source": [
    "# VISUALIZATION 1: Box Plot\n",
    "# I am creating a box and whisker plot to show the distribution in weight through white and hispanic races.\n",
    "\n",
    "fig, axs = plt.subplots(figsize=(12,8))\n",
    "axs.boxplot([white_df['Weight'].dropna(), hispanic_df['Weight'].dropna()])\n",
    "plt.title('Weight of White and Hispanic Races', fontsize=20)\n",
    "axs.set_xticklabels(['White','Hispanic'])\n",
    "axs.set_ylabel('Weight [kg]', fontsize=18)\n",
    "axs.tick_params(labelsize=15)\n",
    "plt.show()"
   ]
  },
  {
   "cell_type": "code",
   "execution_count": 9,
   "metadata": {},
   "outputs": [
    {
     "name": "stdout",
     "output_type": "stream",
     "text": [
      "Mean white Weight: 82.52840356564019\n",
      "Mean hispanic Weight: 78.26079812206572\n"
     ]
    }
   ],
   "source": [
    "# Summary Statistics (Weight and Race): Mean. \n",
    "# I will get the average weights of the two race groups groups I am comparing; white and hispanic races. \n",
    "\n",
    "\n",
    "print(\"Mean white Weight:\", np.mean(white_df['Weight'].dropna()))\n",
    "print(\"Mean hispanic Weight:\", np.mean(hispanic_df['Weight'].dropna()))"
   ]
  },
  {
   "cell_type": "code",
   "execution_count": 10,
   "metadata": {},
   "outputs": [],
   "source": [
    "# 95% Confidence Intervals (Weight and Race).\n",
    "# I will compute a 95% CI of mean using this function (Weight and Race).\n",
    "\n",
    "def CI_mean(data):\n",
    "    se = np.std(data)/np.sqrt(len(data))\n",
    "    low = np.mean(data)-1.96*se\n",
    "    up = np.mean(data)+1.96*se\n",
    "    print(\"Average is:\", np.mean(data))\n",
    "    print(\"95% CI of mean is: ({}, {})\".format(low,up))"
   ]
  },
  {
   "cell_type": "code",
   "execution_count": 11,
   "metadata": {},
   "outputs": [
    {
     "name": "stdout",
     "output_type": "stream",
     "text": [
      "Average is: 82.52840356564019\n",
      "95% CI of mean is: (81.95140816510877, 83.1053989661716)\n"
     ]
    }
   ],
   "source": [
    "# 95% Confidence Interval (White Weights).\n",
    "# This is the 95% CI of mean weights of whites. \n",
    "\n",
    "CI_mean(white_df['Weight'])"
   ]
  },
  {
   "cell_type": "code",
   "execution_count": 12,
   "metadata": {},
   "outputs": [
    {
     "name": "stdout",
     "output_type": "stream",
     "text": [
      "Average is: 78.26079812206572\n",
      "95% CI of mean is: (76.45006429544875, 80.07153194868269)\n"
     ]
    }
   ],
   "source": [
    "# 95% Confidence Interval (Hispanic Weights). \n",
    "# This is the 95% CI of mean weights of hispanics.\n",
    "\n",
    "CI_mean(hispanic_df['Weight'])"
   ]
  },
  {
   "cell_type": "code",
   "execution_count": 13,
   "metadata": {},
   "outputs": [],
   "source": [
    "# 95% CI Mean Difference (Weight and Race). \n",
    "# This is the function I will use to compute the 95% CI of mean difference.\n",
    "\n",
    "def CI_mean_diff(list1, list2):\n",
    "    s1 = np.var(list1)\n",
    "    s2 = np.var(list2)\n",
    "    n1 = len(list1)\n",
    "    n2 = len(list2)\n",
    "    se2 = s1/n1 + s2/n2\n",
    "    se = np.sqrt(se2)\n",
    "\n",
    "    diff = np.mean(list1) - np.mean(list2)\n",
    "    low = diff - 1.96 * se\n",
    "    up = diff + 1.96 * se\n",
    "    print(\"The average difference is:\", diff)\n",
    "    print(\"The 95% CI is: ({}, {})\".format(low, up))"
   ]
  },
  {
   "cell_type": "code",
   "execution_count": 14,
   "metadata": {},
   "outputs": [
    {
     "name": "stdout",
     "output_type": "stream",
     "text": [
      "The average difference is: 4.2676054435744675\n",
      "The 95% CI is: (2.3671632100168765, 6.1680476771320585)\n"
     ]
    }
   ],
   "source": [
    "# 95% Confidence Intervals Mean Difference (Weight and Race).\n",
    "#This is the CI mean difference in Weight in white and hispanic races.\n",
    "\n",
    "CI_mean_diff(white_df['Weight'], hispanic_df['Weight'])"
   ]
  },
  {
   "cell_type": "code",
   "execution_count": 15,
   "metadata": {},
   "outputs": [
    {
     "name": "stdout",
     "output_type": "stream",
     "text": [
      "Test statistic: 4.39005762196197\n",
      "p-value: 1.375421595045557e-05\n"
     ]
    }
   ],
   "source": [
    "# Two-Sample t-test (Weight and Race). \n",
    "# Lastly, I will conduct a two-sample t-test. \n",
    "\n",
    "from scipy import stats\n",
    "\n",
    "t_val, p_val = stats.ttest_ind(white_df['Weight'].dropna(), hispanic_df['Weight'].dropna(), equal_var=False)\n",
    "\n",
    "print(\"Test statistic:\", t_val)\n",
    "print(\"p-value:\", p_val)"
   ]
  },
  {
   "cell_type": "code",
   "execution_count": 16,
   "metadata": {},
   "outputs": [],
   "source": [
    "# VISUALIZATION #2: Box Plot. \n",
    "\n",
    "# Testosterone levels in White and Hispanic Adults. "
   ]
  },
  {
   "cell_type": "code",
   "execution_count": 17,
   "metadata": {},
   "outputs": [],
   "source": [
    "# Could testosterone levels affect weight in white and hispanic races?"
   ]
  },
  {
   "cell_type": "code",
   "execution_count": 18,
   "metadata": {},
   "outputs": [
    {
     "data": {
      "image/png": "[encoded data removed]",
      "text/plain": [
       "<Figure size 864x576 with 1 Axes>"
      ]
     },
     "metadata": {
      "needs_background": "light"
     },
     "output_type": "display_data"
    }
   ],
   "source": [
    "# I will create a box and whisker plot to show the distribution in testosterone through \n",
    "# white and hispanic races\n",
    "\n",
    "fig, axs = plt.subplots(figsize=(12,8))\n",
    "axs.boxplot([white_df['Testosterone'].dropna(), hispanic_df['Testosterone'].dropna()])\n",
    "plt.title('Testosterone Levels in White and Hispanic Races', fontsize=20)\n",
    "axs.set_xticklabels(['White','Hispanic'])\n",
    "axs.set_ylabel('Total Testosterone', fontsize=18)\n",
    "axs.tick_params(labelsize=15)\n",
    "plt.show()"
   ]
  },
  {
   "cell_type": "code",
   "execution_count": 19,
   "metadata": {},
   "outputs": [
    {
     "name": "stdout",
     "output_type": "stream",
     "text": [
      "Mean white testosterone: 217.22009536194193\n",
      "Mean hispanic testosterone: 213.76707207207204\n"
     ]
    }
   ],
   "source": [
    "# Summary Statistics (Testosterone Levels and Race): Mean. \n",
    "# I will get the average testosterone levels of the two race groups groups I am comparing; white and hispanic races. \n",
    "\n",
    "\n",
    "print(\"Mean white testosterone:\", np.mean(white_df['Testosterone'].dropna()))\n",
    "print(\"Mean hispanic testosterone:\", np.mean(hispanic_df['Testosterone'].dropna()))"
   ]
  },
  {
   "cell_type": "code",
   "execution_count": 20,
   "metadata": {},
   "outputs": [],
   "source": [
    "# 95% Confidence Intervals (Testosterone Levels and Race).\n",
    "# I will compute a 95% CI of mean using this function (Testosterone Levels and Race).\n",
    "\n",
    "def CI_mean(data):\n",
    "    se = np.std(data)/np.sqrt(len(data))\n",
    "    low = np.mean(data)-1.96*se\n",
    "    up = np.mean(data)+1.96*se\n",
    "    print(\"Average is:\", np.mean(data))\n",
    "    print(\"95% CI of mean is: ({}, {})\".format(low,up))"
   ]
  },
  {
   "cell_type": "code",
   "execution_count": 21,
   "metadata": {},
   "outputs": [
    {
     "name": "stdout",
     "output_type": "stream",
     "text": [
      "Average is: 217.22009536194193\n",
      "95% CI of mean is: (210.8915904781294, 223.54860024575447)\n"
     ]
    }
   ],
   "source": [
    "# 95% Confidence Interval (White Testosterone Levels).\n",
    "# This is the 95% CI of mean testosterone levels of whites. \n",
    "\n",
    "CI_mean(white_df['Testosterone'])"
   ]
  },
  {
   "cell_type": "code",
   "execution_count": 22,
   "metadata": {},
   "outputs": [
    {
     "name": "stdout",
     "output_type": "stream",
     "text": [
      "Average is: 213.76707207207204\n",
      "95% CI of mean is: (191.2712747949168, 236.2628693492273)\n"
     ]
    }
   ],
   "source": [
    "# 95% Confidence Interval (Hispanic Testosterone Levels).\n",
    "# This is the 95% CI of mean testosterone levels of hispanics. \n",
    "\n",
    "CI_mean(hispanic_df['Testosterone'])"
   ]
  },
  {
   "cell_type": "code",
   "execution_count": 23,
   "metadata": {},
   "outputs": [
    {
     "name": "stdout",
     "output_type": "stream",
     "text": [
      "The average difference is: 3.45302328986989\n",
      "The 95% CI is: (-19.91599186266285, 26.82203844240263)\n"
     ]
    }
   ],
   "source": [
    "# 95% Confidence Interval (Hispanic Testosterone Levels). \n",
    "# This is the 95% CI of mean testosterone levels of hispanics.\n",
    "\n",
    "CI_mean_diff(white_df['Testosterone'], hispanic_df['Testosterone'])"
   ]
  },
  {
   "cell_type": "code",
   "execution_count": 24,
   "metadata": {},
   "outputs": [
    {
     "name": "stdout",
     "output_type": "stream",
     "text": [
      "Test statistic: 0.2074548508979172\n",
      "p-value: 0.8358160203532207\n"
     ]
    }
   ],
   "source": [
    "# Two-Sample t-test (Testosterone Levels and Race). \n",
    "# Lastly, I will conduct a two-sample t-test. \n",
    "\n",
    "\n",
    "from scipy import stats\n",
    "\n",
    "t_val, p_val = stats.ttest_ind(white_df['Testosterone'].dropna(), hispanic_df['Testosterone'].dropna(), equal_var=False)\n",
    "\n",
    "print(\"Test statistic:\", t_val)\n",
    "print(\"p-value:\", p_val)"
   ]
  },
  {
   "cell_type": "code",
   "execution_count": 25,
   "metadata": {},
   "outputs": [],
   "source": [
    "#VISUALIZATION 3: Box Plot\n",
    "\n",
    "# The next comparison I will do will be a comparison of weight vs. poverty level."
   ]
  },
  {
   "cell_type": "code",
   "execution_count": 26,
   "metadata": {},
   "outputs": [],
   "source": [
    "# Could races with lower poverty levels be more likely to be at an unhealthy or healthy weight?"
   ]
  },
  {
   "cell_type": "code",
   "execution_count": 27,
   "metadata": {},
   "outputs": [
    {
     "data": {
      "image/png": "[encoded data removed]",
      "text/plain": [
       "<Figure size 864x576 with 1 Axes>"
      ]
     },
     "metadata": {
      "needs_background": "light"
     },
     "output_type": "display_data"
    }
   ],
   "source": [
    "# I will create a box and whisker plot to see poverty levels in white and hispanic races\n",
    "# The lower the number on the y-axis (Poverty Level), the more poverty is experienced. \n",
    "\n",
    "\n",
    "fig, axs = plt.subplots(figsize=(12,8))\n",
    "axs.boxplot([white_df['Poverty'].dropna(), hispanic_df['Poverty'].dropna()])\n",
    "plt.title('Poverty Levels in White and Hispanic Races', fontsize=20)\n",
    "axs.set_xticklabels(['White','Hispanic'])\n",
    "axs.set_ylabel('Poverty Level', fontsize=18)\n",
    "axs.tick_params(labelsize=15)\n",
    "plt.show()"
   ]
  },
  {
   "cell_type": "code",
   "execution_count": 28,
   "metadata": {},
   "outputs": [
    {
     "name": "stdout",
     "output_type": "stream",
     "text": [
      "Mean white poverty: 3.24521711366539\n",
      "Mean hispanic poverty: 2.112421875\n"
     ]
    }
   ],
   "source": [
    "# Summary Statistics (Poverty Levels and Race): Mean. \n",
    "# I will get the average poverty levels of the two race groups groups I am comparing; white and hispanic races. \n",
    "\n",
    "\n",
    "print(\"Mean white poverty:\", np.mean(white_df['Poverty'].dropna()))\n",
    "print(\"Mean hispanic poverty:\", np.mean(hispanic_df['Poverty'].dropna()))"
   ]
  },
  {
   "cell_type": "code",
   "execution_count": 29,
   "metadata": {},
   "outputs": [],
   "source": [
    "# 95% Confidence Intervals (Poverty Levels and Race).\n",
    "# I will compute a 95% CI of mean using this function (Poverty Levels and Race).\n",
    "\n",
    "def CI_mean(data):\n",
    "    se = np.std(data)/np.sqrt(len(data))\n",
    "    low = np.mean(data)-1.96*se\n",
    "    up = np.mean(data)+1.96*se\n",
    "    print(\"Average is:\", np.mean(data))\n",
    "    print(\"95% CI of mean is: ({}, {})\".format(low,up))"
   ]
  },
  {
   "cell_type": "code",
   "execution_count": 30,
   "metadata": {
    "scrolled": true
   },
   "outputs": [
    {
     "name": "stdout",
     "output_type": "stream",
     "text": [
      "Average is: 3.2452171136653893\n",
      "95% CI of mean is: (3.200560198389331, 3.2898740289414476)\n"
     ]
    }
   ],
   "source": [
    "# 95% Confidence Interval (White Poverty Levels).\n",
    "# This is the 95% CI of mean poverty levels of whites. \n",
    "\n",
    "CI_mean(white_df['Poverty'])"
   ]
  },
  {
   "cell_type": "code",
   "execution_count": 31,
   "metadata": {},
   "outputs": [
    {
     "name": "stdout",
     "output_type": "stream",
     "text": [
      "Average is: 2.112421875\n",
      "95% CI of mean is: (1.9624433535992214, 2.2624003964007784)\n"
     ]
    }
   ],
   "source": [
    "# 95% Confidence Interval (Hispanic Poverty Levels).\n",
    "# This is the 95% CI of mean poverty levels of hispanics. \n",
    "\n",
    "CI_mean(hispanic_df['Poverty'])"
   ]
  },
  {
   "cell_type": "code",
   "execution_count": 32,
   "metadata": {},
   "outputs": [
    {
     "name": "stdout",
     "output_type": "stream",
     "text": [
      "The average difference is: 1.1327952386653894\n",
      "The 95% CI is: (0.97630946626567, 1.289281011065109)\n"
     ]
    }
   ],
   "source": [
    "# 95% Confidence Interval (Hispanic Poverty Levels). \n",
    "# This is the 95% CI of mean poverty levels of hispanics.\n",
    "\n",
    "CI_mean_diff(white_df['Poverty'], hispanic_df['Poverty'])"
   ]
  },
  {
   "cell_type": "code",
   "execution_count": 33,
   "metadata": {},
   "outputs": [
    {
     "name": "stdout",
     "output_type": "stream",
     "text": [
      "Test statistic: 13.464169861708305\n",
      "p-value: 5.822308184607944e-35\n"
     ]
    }
   ],
   "source": [
    "# Two-Sample t-test (Poverty Levels and Race). \n",
    "# Lastly, I will conduct a two-sample t-test. \n",
    "\n",
    "\n",
    "from scipy import stats\n",
    "\n",
    "t_val, p_val = stats.ttest_ind(white_df['Poverty'].dropna(), hispanic_df['Poverty'].dropna(), equal_var=False)\n",
    "\n",
    "print(\"Test statistic:\", t_val)\n",
    "print(\"p-value:\", p_val)"
   ]
  },
  {
   "cell_type": "code",
   "execution_count": 34,
   "metadata": {},
   "outputs": [],
   "source": [
    "# VISUALIZATION 4: Chi-Squared Test\n",
    "# Income differences among white and hispanic weights. "
   ]
  },
  {
   "cell_type": "code",
   "execution_count": 35,
   "metadata": {},
   "outputs": [],
   "source": [
    "# Could a difference in income among White and Hispanic races affect weight?"
   ]
  },
  {
   "cell_type": "code",
   "execution_count": 36,
   "metadata": {},
   "outputs": [],
   "source": [
    "# I will drop only nans in the two columns specified here. I will specify columns by using subsets so that I\n",
    "# do not dropna in the original dataframe and drop all nans. \n",
    "\n",
    "new_df = adult_df.dropna(subset=['HHIncomeMid','Weight'])"
   ]
  },
  {
   "cell_type": "code",
   "execution_count": 37,
   "metadata": {},
   "outputs": [
    {
     "name": "stdout",
     "output_type": "stream",
     "text": [
      "Requirement already satisfied: statsmodels in /home/codio/.local/lib/python3.6/site-packages (0.12.1)\n",
      "Requirement already satisfied: scipy>=1.1 in /usr/local/lib/python3.6/dist-packages (from statsmodels) (1.2.1)\n",
      "Requirement already satisfied: patsy>=0.5 in /home/codio/.local/lib/python3.6/site-packages (from statsmodels) (0.5.1)\n",
      "Requirement already satisfied: pandas>=0.21 in /home/codio/.local/lib/python3.6/site-packages (from statsmodels) (1.1.2)\n",
      "Requirement already satisfied: numpy>=1.15 in /usr/local/lib/python3.6/dist-packages (from statsmodels) (1.16.3)\n",
      "Requirement already satisfied: six in /usr/lib/python3/dist-packages (from patsy>=0.5->statsmodels) (1.11.0)\n",
      "Requirement already satisfied: python-dateutil>=2.7.3 in /usr/local/lib/python3.6/dist-packages (from pandas>=0.21->statsmodels) (2.8.0)\n",
      "Requirement already satisfied: pytz>=2017.2 in /home/codio/.local/lib/python3.6/site-packages (from pandas>=0.21->statsmodels) (2020.1)\n",
      "\u001b[33mWARNING: You are using pip version 19.1.1, however version 20.3.3 is available.\n",
      "You should consider upgrading via the 'pip install --upgrade pip' command.\u001b[0m\n"
     ]
    }
   ],
   "source": [
    "!pip install statsmodels --user"
   ]
  },
  {
   "cell_type": "code",
   "execution_count": 38,
   "metadata": {},
   "outputs": [
    {
     "data": {
      "text/html": [
       "<table class=\"simpletable\">\n",
       "<caption>OLS Regression Results</caption>\n",
       "<tr>\n",
       "  <th>Dep. Variable:</th>         <td>Weight</td>      <th>  R-squared:         </th> <td>   0.000</td> \n",
       "</tr>\n",
       "<tr>\n",
       "  <th>Model:</th>                   <td>OLS</td>       <th>  Adj. R-squared:    </th> <td>  -0.000</td> \n",
       "</tr>\n",
       "<tr>\n",
       "  <th>Method:</th>             <td>Least Squares</td>  <th>  F-statistic:       </th> <td>  0.2000</td> \n",
       "</tr>\n",
       "<tr>\n",
       "  <th>Date:</th>             <td>Tue, 29 Dec 2020</td> <th>  Prob (F-statistic):</th>  <td> 0.655</td>  \n",
       "</tr>\n",
       "<tr>\n",
       "  <th>Time:</th>                 <td>07:55:39</td>     <th>  Log-Likelihood:    </th> <td> -30381.</td> \n",
       "</tr>\n",
       "<tr>\n",
       "  <th>No. Observations:</th>      <td>  6783</td>      <th>  AIC:               </th> <td>6.077e+04</td>\n",
       "</tr>\n",
       "<tr>\n",
       "  <th>Df Residuals:</th>          <td>  6781</td>      <th>  BIC:               </th> <td>6.078e+04</td>\n",
       "</tr>\n",
       "<tr>\n",
       "  <th>Df Model:</th>              <td>     1</td>      <th>                     </th>     <td> </td>    \n",
       "</tr>\n",
       "<tr>\n",
       "  <th>Covariance Type:</th>      <td>nonrobust</td>    <th>                     </th>     <td> </td>    \n",
       "</tr>\n",
       "</table>\n",
       "<table class=\"simpletable\">\n",
       "<tr>\n",
       "       <td></td>          <th>coef</th>     <th>std err</th>      <th>t</th>      <th>P>|t|</th>  <th>[0.025</th>    <th>0.975]</th>  \n",
       "</tr>\n",
       "<tr>\n",
       "  <th>const</th>       <td>   82.3208</td> <td>    0.523</td> <td>  157.489</td> <td> 0.000</td> <td>   81.296</td> <td>   83.345</td>\n",
       "</tr>\n",
       "<tr>\n",
       "  <th>HHIncomeMid</th> <td> 3.525e-06</td> <td> 7.88e-06</td> <td>    0.447</td> <td> 0.655</td> <td>-1.19e-05</td> <td>  1.9e-05</td>\n",
       "</tr>\n",
       "</table>\n",
       "<table class=\"simpletable\">\n",
       "<tr>\n",
       "  <th>Omnibus:</th>       <td>1300.878</td> <th>  Durbin-Watson:     </th> <td>   1.285</td>\n",
       "</tr>\n",
       "<tr>\n",
       "  <th>Prob(Omnibus):</th>  <td> 0.000</td>  <th>  Jarque-Bera (JB):  </th> <td>3199.138</td>\n",
       "</tr>\n",
       "<tr>\n",
       "  <th>Skew:</th>           <td> 1.062</td>  <th>  Prob(JB):          </th> <td>    0.00</td>\n",
       "</tr>\n",
       "<tr>\n",
       "  <th>Kurtosis:</th>       <td> 5.609</td>  <th>  Cond. No.          </th> <td>1.34e+05</td>\n",
       "</tr>\n",
       "</table><br/><br/>Notes:<br/>[1] Standard Errors assume that the covariance matrix of the errors is correctly specified.<br/>[2] The condition number is large, 1.34e+05. This might indicate that there are<br/>strong multicollinearity or other numerical problems."
      ],
      "text/plain": [
       "<class 'statsmodels.iolib.summary.Summary'>\n",
       "\"\"\"\n",
       "                            OLS Regression Results                            \n",
       "==============================================================================\n",
       "Dep. Variable:                 Weight   R-squared:                       0.000\n",
       "Model:                            OLS   Adj. R-squared:                 -0.000\n",
       "Method:                 Least Squares   F-statistic:                    0.2000\n",
       "Date:                Tue, 29 Dec 2020   Prob (F-statistic):              0.655\n",
       "Time:                        07:55:39   Log-Likelihood:                -30381.\n",
       "No. Observations:                6783   AIC:                         6.077e+04\n",
       "Df Residuals:                    6781   BIC:                         6.078e+04\n",
       "Df Model:                           1                                         \n",
       "Covariance Type:            nonrobust                                         \n",
       "===============================================================================\n",
       "                  coef    std err          t      P>|t|      [0.025      0.975]\n",
       "-------------------------------------------------------------------------------\n",
       "const          82.3208      0.523    157.489      0.000      81.296      83.345\n",
       "HHIncomeMid  3.525e-06   7.88e-06      0.447      0.655   -1.19e-05     1.9e-05\n",
       "==============================================================================\n",
       "Omnibus:                     1300.878   Durbin-Watson:                   1.285\n",
       "Prob(Omnibus):                  0.000   Jarque-Bera (JB):             3199.138\n",
       "Skew:                           1.062   Prob(JB):                         0.00\n",
       "Kurtosis:                       5.609   Cond. No.                     1.34e+05\n",
       "==============================================================================\n",
       "\n",
       "Notes:\n",
       "[1] Standard Errors assume that the covariance matrix of the errors is correctly specified.\n",
       "[2] The condition number is large, 1.34e+05. This might indicate that there are\n",
       "strong multicollinearity or other numerical problems.\n",
       "\"\"\""
      ]
     },
     "metadata": {},
     "output_type": "display_data"
    }
   ],
   "source": [
    "# I will use this mainly to access my F-Statistics and coeffients. \n",
    "\n",
    "from statsmodels.regression.linear_model import OLS\n",
    "import statsmodels.api as sm\n",
    "\n",
    "x_vals = new_df['HHIncomeMid']\n",
    "y_vals = new_df['Weight']\n",
    "\n",
    "reg_model = OLS(y_vals, sm.add_constant(x_vals)).fit()\n",
    "display(reg_model.summary())"
   ]
  },
  {
   "cell_type": "code",
   "execution_count": 39,
   "metadata": {},
   "outputs": [
    {
     "name": "stdout",
     "output_type": "stream",
     "text": [
      "Correlation coefficient: 0.005430769460564834\n",
      "p-value: 0.6547353930115887\n"
     ]
    }
   ],
   "source": [
    "# Here, I will obtain the correlation coefficient. \n",
    "\n",
    "from scipy import stats\n",
    "corr = stats.pearsonr(new_df['HHIncomeMid'], new_df['Weight'])\n",
    "print('Correlation coefficient:', corr[0])\n",
    "print('p-value:', corr[1])"
   ]
  },
  {
   "cell_type": "code",
   "execution_count": 40,
   "metadata": {},
   "outputs": [],
   "source": [
    "# VISUALIZATION 5: Scatter Plot with Regression Line. \n",
    "# Income and weight among races. "
   ]
  },
  {
   "cell_type": "code",
   "execution_count": 41,
   "metadata": {},
   "outputs": [],
   "source": [
    "# Next, I will obtain my regression parameters and then set the x-values for the plot.\n",
    "\n",
    "b0 = reg_model.params[0]\n",
    "b1 = reg_model.params[1]\n",
    "x_plot = np.linspace(np.min(new_df['HHIncomeMid']), np.max(new_df['Weight']), 100)"
   ]
  },
  {
   "cell_type": "code",
   "execution_count": 42,
   "metadata": {},
   "outputs": [
    {
     "data": {
      "image/png": "[encoded data removed]",
      "text/plain": [
       "<Figure size 864x576 with 1 Axes>"
      ]
     },
     "metadata": {
      "needs_background": "light"
     },
     "output_type": "display_data"
    }
   ],
   "source": [
    "b0 = reg_model.params[0]\n",
    "b1 = reg_model.params[1]\n",
    "x_plot = np.linspace(np.min(new_df['HHIncomeMid']),\n",
    "np.max(new_df['HHIncomeMid']), 100)\n",
    "\n",
    "fig, axs = plt.subplots(figsize=(12,8))\n",
    "axs.scatter(adult_df['HHIncomeMid'], adult_df['Weight'], c='purple',\n",
    "edgecolors='none', s=30)\n",
    "plt.title(\"Income vs Weight\", fontsize=20)\n",
    "axs.set_xlabel(\"Income [US$]\", fontsize=18)\n",
    "axs.set_ylabel(\"Weight [kg]\", fontsize=18)\n",
    "axs.plot(x_plot, x_plot*b1 + b0, color='orange')\n",
    "axs.tick_params(labelsize=15)\n",
    "plt.text(55000, 210, \"Weight = Income * 3.525e-06 + 82.321\",\n",
    "fontsize=15, color='orange')\n",
    "plt.show()"
   ]
  }
 ],
 "metadata": {
  "kernelspec": {
   "display_name": "Python 3",
   "language": "python",
   "name": "python3"
  },
  "language_info": {
   "codemirror_mode": {
    "name": "ipython",
    "version": 3
   },
   "file_extension": ".py",
   "mimetype": "text/x-python",
   "name": "python",
   "nbconvert_exporter": "python",
   "pygments_lexer": "ipython3",
   "version": "3.6.9"
  }
 },
 "nbformat": 4,
 "nbformat_minor": 4
}
